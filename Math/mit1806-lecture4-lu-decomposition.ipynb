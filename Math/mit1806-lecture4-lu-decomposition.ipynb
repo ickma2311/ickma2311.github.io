{
 "cells": [
  {
   "cell_type": "markdown",
   "metadata": {},
   "source": [
    "---\n",
    "title: \"MIT 18.06SC Lecture 4: LU Decomposition\"\n",
    "author: \"Chao Ma\"\n",
    "date: \"2025-10-07\"\n",
    "categories: [\"Linear Algebra\", \"MIT 18.06\", \"Matrix Factorization\"]\n",
    "code-fold: true\n",
    "code-summary: \"Show code\"\n",
    "---\n",
    "\n",
    "## Context\n",
    "\n",
    "[My lecture notes](https://github.com/ickma2311/foundations/blob/main/MIT18.06SC/lecture04/lecture04_LU_decomposition.md) | [Exercises notebook](https://github.com/ickma2311/foundations/blob/main/MIT18.06SC/lecture04/exercises.ipynb)\n",
    "\n",
    "**Gilbert Strang's fourth lecture introduces one of the most important matrix factorizations:** LU decomposition, which factors any invertible matrix $A$ into the product of a **Lower triangular** matrix and an **Upper triangular** matrix. This factorization is the foundation of efficient numerical linear algebra.\n",
    "\n",
    "---\n",
    "\n",
    "## What is LU Decomposition?\n",
    "\n",
    "**Goal:** Factor any invertible matrix $A$ as the product of:\n",
    "- $L$ = **Lower triangular** matrix (with 1's on diagonal)\n",
    "- $U$ = **Upper triangular** matrix (the result of elimination)\n",
    "\n",
    "$$\n",
    "A = LU\n",
    "$$\n",
    "\n",
    "### Why is this useful?\n",
    "\n",
    "1. **Efficient solving:** $Ax = b$ becomes two simpler triangular solves:\n",
    "   \n",
    "   **Step 1 - Forward substitution:** Solve $Lc = b$ for $c$\n",
    "   \n",
    "   **Step 2 - Back substitution:** Solve $Ux = c$ for $x$\n",
    "   \n",
    "   **How this works:**\n",
    "   \n",
    "   Since $A = LU$, we have $Ax = LUx = b$. Let $Ux = c$, then:\n",
    "   $$\n",
    "   LUx = Lc = b\n",
    "   $$\n",
    "   \n",
    "   **Forward substitution** (solving $Lc = b$):\n",
    "   \n",
    "   Since $L$ is lower triangular with 1's on the diagonal, we can solve for $c$ step by step:\n",
    "   $$\n",
    "   \\begin{aligned}\n",
    "   c_1 &= b_1 \\\\\n",
    "   c_2 &= b_2 - m_{21}c_1 \\\\\n",
    "   c_3 &= b_3 - m_{31}c_1 - m_{32}c_2 \\\\\n",
    "   &\\vdots\n",
    "   \\end{aligned}\n",
    "   $$\n",
    "   \n",
    "   Each $c_i$ depends only on previously computed values, so we solve **forward** from $c_1$ to $c_n$.\n",
    "   \n",
    "   **Back substitution** (solving $Ux = c$):\n",
    "   \n",
    "   Since $U$ is upper triangular, we solve **backward** from $x_n$ to $x_1$:\n",
    "   $$\n",
    "   \\begin{aligned}\n",
    "   x_n &= \\frac{c_n}{u_{nn}} \\\\\n",
    "   x_{n-1} &= \\frac{c_{n-1} - u_{n-1,n}x_n}{u_{n-1,n-1}} \\\\\n",
    "   &\\vdots\n",
    "   \\end{aligned}\n",
    "   $$\n",
    "   \n",
    "   **Result:** We've solved $Ax = b$ without ever explicitly computing $A^{-1}$!\n",
    "\n",
    "2. **Reusable factorization:** When $A$ is fixed but $b$ changes, we can reuse $L$ and $U$\n",
    "   - Factorization: $O(n^3)$ operations (done once)\n",
    "   - Each solve: $O(n^2)$ operations\n",
    "   - **Huge savings for multiple right-hand sides!**\n",
    "\n",
    "3. **Foundation of numerical computing:** Used in MATLAB, NumPy, and all scientific computing libraries\n",
    "\n",
    "---\n",
    "\n",
    "## How Elimination Creates U\n",
    "\n",
    "### The Elimination Process\n",
    "\n",
    "Starting with $A$, we apply **elimination matrices** $E_{21}, E_{31}, E_{32}, \\ldots$ to get upper triangular $U$:\n",
    "\n",
    "$$\n",
    "E_{32} E_{31} E_{21} A = U\n",
    "$$\n",
    "\n",
    "**Example (3×3 case):**\n",
    "\n",
    "$$\n",
    "A = \\begin{bmatrix} 2 & 1 & 1 \\\\ 4 & -6 & 0 \\\\ -2 & 7 & 2 \\end{bmatrix}\n",
    "$$\n",
    "\n",
    "**Step 1:** Eliminate below first pivot (rows 2 and 3)\n",
    "\n",
    "$$\n",
    "E_{21} = \\begin{bmatrix} 1 & 0 & 0 \\\\ -2 & 1 & 0 \\\\ 0 & 0 & 1 \\end{bmatrix}, \\quad\n",
    "E_{31} = \\begin{bmatrix} 1 & 0 & 0 \\\\ 0 & 1 & 0 \\\\ 1 & 0 & 1 \\end{bmatrix}\n",
    "$$\n",
    "\n",
    "**Step 2:** Eliminate below second pivot (row 3)\n",
    "\n",
    "$$\n",
    "E_{32} = \\begin{bmatrix} 1 & 0 & 0 \\\\ 0 & 1 & 0 \\\\ 0 & -1 & 1 \\end{bmatrix}\n",
    "$$\n",
    "\n",
    "### Structure of Elimination Matrices\n",
    "\n",
    "An elimination matrix $E_{ij}$ eliminates the entry at position $(i,j)$ by subtracting a multiple of row $j$ from row $i$.\n",
    "\n",
    "**General form:**\n",
    "$$\n",
    "E_{ij} = I - m_{ij} \\mathbf{e}_i \\mathbf{e}_j^T\n",
    "$$\n",
    "\n",
    "where:\n",
    "- $m_{ij}$ = multiplier = $\\frac{A_{ij}}{\\text{pivot at } (j,j)}$\n",
    "- $\\mathbf{e}_i$ = $i$-th standard basis vector\n",
    "- The $(i,j)$ entry of $E_{ij}$ is $-m_{ij}$\n",
    "\n",
    "**Key properties:**\n",
    "1. Lower triangular (operates below diagonal)\n",
    "2. Determinant = 1 (doesn't change volume)\n",
    "3. **Easy to invert:** $E_{ij}^{-1} = I + m_{ij} \\mathbf{e}_i \\mathbf{e}_j^T$ (just flip the sign!)\n",
    "\n",
    "---\n",
    "\n",
    "## Inverting to Get L: The Key Insight\n",
    "\n",
    "From elimination, we have:\n",
    "\n",
    "$$\n",
    "E_{32} E_{31} E_{21} A = U\n",
    "$$\n",
    "\n",
    "Multiply both sides by the inverses (in reverse order):\n",
    "\n",
    "$$\n",
    "A = E_{21}^{-1} E_{31}^{-1} E_{32}^{-1} U = LU\n",
    "$$\n",
    "\n",
    "where:\n",
    "$$\n",
    "L = E_{21}^{-1} E_{31}^{-1} E_{32}^{-1}\n",
    "$$\n",
    "\n",
    "### The Beautiful Result\n",
    "\n",
    "When elimination matrices are multiplied in the right order, their **inverses combine beautifully**:\n",
    "\n",
    "$$\n",
    "L = \\begin{bmatrix}\n",
    "1 & 0 & 0 & \\cdots \\\\\n",
    "m_{21} & 1 & 0 & \\cdots \\\\\n",
    "m_{31} & m_{32} & 1 & \\cdots \\\\\n",
    "\\vdots & \\vdots & \\ddots & \\ddots\n",
    "\\end{bmatrix}\n",
    "$$\n",
    "\n",
    "**The multipliers $m_{ij}$ (used during elimination) directly fill in the entries of $L$ below the diagonal!**\n",
    "\n",
    "**No extra computation needed** — just save the multipliers as you eliminate.\n",
    "\n",
    "---\n",
    "\n",
    "## Computational Complexity\n",
    "\n",
    "### Operation Counts\n",
    "\n",
    "For an $n \\times n$ matrix:\n",
    "\n",
    "| Step | Operations | Order |\n",
    "|------|-----------|-------|\n",
    "| **Elimination (find U)** | $\\frac{n^3}{3} + O(n^2)$ | $O(n^3)$ |\n",
    "| **Forward substitution** $(Lc = b)$ | $\\frac{n^2}{2}$ | $O(n^2)$ |\n",
    "| **Back substitution** $(Ux = c)$ | $\\frac{n^2}{2}$ | $O(n^2)$ |\n",
    "\n",
    "### Why $\\frac{n^3}{3}$?\n",
    "\n",
    "At step $k$, we update an $(n-k) \\times (n-k)$ submatrix:\n",
    "\n",
    "$$\n",
    "\\text{Total operations} = \\sum_{k=1}^{n-1} (n-k)^2 \\approx \\int_0^n x^2 \\, dx = \\frac{n^3}{3}\n",
    "$$\n",
    "\n",
    "### When is LU Worth It?\n",
    "\n",
    "**Single solve:** $Ax = b$ costs $O(n^3)$ either way\n",
    "\n",
    "**Multiple solves:** If solving $Ax = b_1, Ax = b_2, \\ldots, Ax = b_m$:\n",
    "- **Without LU:** $m \\times O(n^3)$\n",
    "- **With LU:** $O(n^3)$ (once) + $m \\times O(n^2)$ ✅\n",
    "\n",
    "**Huge savings when $A$ is fixed but $b$ changes!**\n",
    "\n",
    "---\n",
    "\n",
    "## Hands-On Exercises\n",
    "\n",
    "Let's practice LU decomposition with concrete examples."
   ]
  },
  {
   "cell_type": "code",
   "execution_count": 1,
   "metadata": {
    "execution": {
     "iopub.execute_input": "2025-10-08T02:02:53.839526Z",
     "iopub.status.busy": "2025-10-08T02:02:53.839417Z",
     "iopub.status.idle": "2025-10-08T02:02:53.864590Z",
     "shell.execute_reply": "2025-10-08T02:02:53.864352Z"
    }
   },
   "outputs": [
    {
     "name": "stdout",
     "output_type": "stream",
     "text": [
      "✓ Libraries imported successfully\n"
     ]
    }
   ],
   "source": [
    "import numpy as np\n",
    "\n",
    "print(\"✓ Libraries imported successfully\")"
   ]
  },
  {
   "cell_type": "markdown",
   "metadata": {},
   "source": [
    "### Exercise 1: Manual LU Decomposition (2×2)\n",
    "\n",
    "Compute the LU decomposition of $A = \\begin{bmatrix} 2 & 3 \\\\ 4 & 7 \\end{bmatrix}$ by hand.\n",
    "\n",
    "**Steps:**\n",
    "1. Perform elimination to get $U$\n",
    "2. Record the multiplier $m_{21}$ to build $L$\n",
    "3. Verify $A = LU$"
   ]
  },
  {
   "cell_type": "code",
   "execution_count": 2,
   "metadata": {
    "execution": {
     "iopub.execute_input": "2025-10-08T02:02:53.878190Z",
     "iopub.status.busy": "2025-10-08T02:02:53.878089Z",
     "iopub.status.idle": "2025-10-08T02:02:53.885859Z",
     "shell.execute_reply": "2025-10-08T02:02:53.885672Z"
    }
   },
   "outputs": [
    {
     "data": {
      "text/markdown": [
       "**Original matrix A:**"
      ],
      "text/plain": [
       "<IPython.core.display.Markdown object>"
      ]
     },
     "metadata": {},
     "output_type": "display_data"
    },
    {
     "data": {
      "text/latex": [
       "$$A = \\begin{bmatrix} 2 & 3 \\\\ 4 & 7 \\end{bmatrix}$$"
      ],
      "text/plain": [
       "<IPython.core.display.Latex object>"
      ]
     },
     "metadata": {},
     "output_type": "display_data"
    },
    {
     "data": {
      "text/markdown": [
       "<hr />"
      ],
      "text/plain": [
       "<IPython.core.display.Markdown object>"
      ]
     },
     "metadata": {},
     "output_type": "display_data"
    },
    {
     "data": {
      "text/markdown": [
       "**Step 1: Compute multiplier**"
      ],
      "text/plain": [
       "<IPython.core.display.Markdown object>"
      ]
     },
     "metadata": {},
     "output_type": "display_data"
    },
    {
     "data": {
      "text/latex": [
       "$$m_{21} = \\frac{4}{2} = 2.0$$"
      ],
      "text/plain": [
       "<IPython.core.display.Latex object>"
      ]
     },
     "metadata": {},
     "output_type": "display_data"
    },
    {
     "data": {
      "text/markdown": [
       "<hr />"
      ],
      "text/plain": [
       "<IPython.core.display.Markdown object>"
      ]
     },
     "metadata": {},
     "output_type": "display_data"
    },
    {
     "data": {
      "text/markdown": [
       "**Step 2: Build L matrix**"
      ],
      "text/plain": [
       "<IPython.core.display.Markdown object>"
      ]
     },
     "metadata": {},
     "output_type": "display_data"
    },
    {
     "data": {
      "text/latex": [
       "$$L = \\begin{bmatrix} 1 & 0 \\\\ m_{21} & 1 \\end{bmatrix} = \\begin{bmatrix} 1 & 0 \\\\ 2 & 1 \\end{bmatrix}$$"
      ],
      "text/plain": [
       "<IPython.core.display.Latex object>"
      ]
     },
     "metadata": {},
     "output_type": "display_data"
    },
    {
     "data": {
      "text/markdown": [
       "<hr />"
      ],
      "text/plain": [
       "<IPython.core.display.Markdown object>"
      ]
     },
     "metadata": {},
     "output_type": "display_data"
    },
    {
     "data": {
      "text/markdown": [
       "**Step 3: Build U matrix (after elimination)**"
      ],
      "text/plain": [
       "<IPython.core.display.Markdown object>"
      ]
     },
     "metadata": {},
     "output_type": "display_data"
    },
    {
     "data": {
      "text/markdown": [
       "Row 2 → Row 2 - 2 × Row 1"
      ],
      "text/plain": [
       "<IPython.core.display.Markdown object>"
      ]
     },
     "metadata": {},
     "output_type": "display_data"
    },
    {
     "data": {
      "text/latex": [
       "$$U = \\begin{bmatrix} 2 & 3 \\\\ 0 & 1 \\end{bmatrix}$$"
      ],
      "text/plain": [
       "<IPython.core.display.Latex object>"
      ]
     },
     "metadata": {},
     "output_type": "display_data"
    },
    {
     "data": {
      "text/markdown": [
       "<hr />"
      ],
      "text/plain": [
       "<IPython.core.display.Markdown object>"
      ]
     },
     "metadata": {},
     "output_type": "display_data"
    },
    {
     "data": {
      "text/markdown": [
       "**Verification: $A = LU$**"
      ],
      "text/plain": [
       "<IPython.core.display.Markdown object>"
      ]
     },
     "metadata": {},
     "output_type": "display_data"
    },
    {
     "data": {
      "text/latex": [
       "$$LU = \\begin{bmatrix} 1 & 0 \\\\ 2 & 1 \\end{bmatrix} \\begin{bmatrix} 2 & 3 \\\\ 0 & 1 \\end{bmatrix} = \\begin{bmatrix} 2 & 3 \\\\ 4 & 7 \\end{bmatrix} = A \\quad \\checkmark$$"
      ],
      "text/plain": [
       "<IPython.core.display.Latex object>"
      ]
     },
     "metadata": {},
     "output_type": "display_data"
    }
   ],
   "source": [
    "from IPython.display import display, Markdown, Latex\n",
    "\n",
    "# Original matrix\n",
    "A = np.array([[2, 3],\n",
    "              [4, 7]])\n",
    "\n",
    "display(Markdown(\"**Original matrix A:**\"))\n",
    "display(Latex(r\"$$A = \\begin{bmatrix} 2 & 3 \\\\ 4 & 7 \\end{bmatrix}$$\"))\n",
    "\n",
    "# Compute multiplier m21\n",
    "m21 = 4/2  # row2[0] / row1[0]\n",
    "\n",
    "display(Markdown(\"<hr />\"))\n",
    "display(Markdown(\"**Step 1: Compute multiplier**\"))\n",
    "display(Latex(f\"$$m_{{21}} = \\\\frac{{4}}{{2}} = {m21}$$\"))\n",
    "\n",
    "# Build L matrix\n",
    "L = np.array([[1, 0],\n",
    "              [m21, 1]])\n",
    "\n",
    "display(Markdown(\"<hr />\"))\n",
    "display(Markdown(\"**Step 2: Build L matrix**\"))\n",
    "display(Latex(r\"$$L = \\begin{bmatrix} 1 & 0 \\\\ m_{21} & 1 \\end{bmatrix} = \\begin{bmatrix} 1 & 0 \\\\ 2 & 1 \\end{bmatrix}$$\"))\n",
    "\n",
    "# Build U matrix (result after elimination)\n",
    "# After: row2 = row2 - m21*row1\n",
    "# [2, 3]        [2, 3]\n",
    "# [4, 7]  -->   [0, 1]  (because 7 - 2*3 = 1)\n",
    "U = np.array([[2, 3],\n",
    "              [0, 1]])\n",
    "\n",
    "display(Markdown(\"<hr />\"))\n",
    "display(Markdown(\"**Step 3: Build U matrix (after elimination)**\"))\n",
    "display(Markdown(\"Row 2 → Row 2 - 2 × Row 1\"))\n",
    "display(Latex(r\"$$U = \\begin{bmatrix} 2 & 3 \\\\ 0 & 1 \\end{bmatrix}$$\"))\n",
    "\n",
    "display(Markdown(\"<hr />\"))\n",
    "display(Markdown(\"**Verification: $A = LU$**\"))\n",
    "display(Latex(r\"$$LU = \\begin{bmatrix} 1 & 0 \\\\ 2 & 1 \\end{bmatrix} \\begin{bmatrix} 2 & 3 \\\\ 0 & 1 \\end{bmatrix} = \\begin{bmatrix} 2 & 3 \\\\ 4 & 7 \\end{bmatrix} = A \\quad \\checkmark$$\"))"
   ]
  },
  {
   "cell_type": "markdown",
   "metadata": {},
   "source": [
    "**Key observation:** The multiplier $m_{21} = 2$ goes directly into position $(2,1)$ of $L$!"
   ]
  },
  {
   "cell_type": "markdown",
   "metadata": {},
   "source": [
    "### Exercise 2: LU Decomposition (3×3)\n",
    "\n",
    "Perform LU decomposition on:\n",
    "\n",
    "$$\n",
    "A = \\begin{bmatrix} 2 & 1 & 1 \\\\ 4 & -6 & 0 \\\\ -2 & 7 & 2 \\end{bmatrix}\n",
    "$$\n",
    "\n",
    "**Goal:** Find $L$ and $U$ such that $A = LU$"
   ]
  },
  {
   "cell_type": "code",
   "execution_count": 3,
   "metadata": {
    "execution": {
     "iopub.execute_input": "2025-10-08T02:02:53.887017Z",
     "iopub.status.busy": "2025-10-08T02:02:53.886948Z",
     "iopub.status.idle": "2025-10-08T02:02:53.896364Z",
     "shell.execute_reply": "2025-10-08T02:02:53.896193Z"
    }
   },
   "outputs": [
    {
     "data": {
      "text/markdown": [
       "**Original matrix A:**"
      ],
      "text/plain": [
       "<IPython.core.display.Markdown object>"
      ]
     },
     "metadata": {},
     "output_type": "display_data"
    },
    {
     "data": {
      "text/latex": [
       "$$A = \\begin{bmatrix} 2 & 1 & 1 \\\\ 4 & -6 & 0 \\\\ -2 & 7 & 2 \\end{bmatrix}$$"
      ],
      "text/plain": [
       "<IPython.core.display.Latex object>"
      ]
     },
     "metadata": {},
     "output_type": "display_data"
    },
    {
     "data": {
      "text/markdown": [
       "<hr />"
      ],
      "text/plain": [
       "<IPython.core.display.Markdown object>"
      ]
     },
     "metadata": {},
     "output_type": "display_data"
    },
    {
     "data": {
      "text/markdown": [
       "### Step 1: Eliminate column 1"
      ],
      "text/plain": [
       "<IPython.core.display.Markdown object>"
      ]
     },
     "metadata": {},
     "output_type": "display_data"
    },
    {
     "data": {
      "text/markdown": [
       "**Multipliers:**"
      ],
      "text/plain": [
       "<IPython.core.display.Markdown object>"
      ]
     },
     "metadata": {},
     "output_type": "display_data"
    },
    {
     "data": {
      "text/latex": [
       "$$m_{21} = \\frac{4}{2} = 2.0, \\quad m_{31} = \\frac{-2}{2} = -1.0$$"
      ],
      "text/plain": [
       "<IPython.core.display.Latex object>"
      ]
     },
     "metadata": {},
     "output_type": "display_data"
    },
    {
     "data": {
      "text/markdown": [
       "**After eliminating column 1:**"
      ],
      "text/plain": [
       "<IPython.core.display.Markdown object>"
      ]
     },
     "metadata": {},
     "output_type": "display_data"
    },
    {
     "data": {
      "text/markdown": [
       "- Row 2 → Row 2 - 2 × Row 1"
      ],
      "text/plain": [
       "<IPython.core.display.Markdown object>"
      ]
     },
     "metadata": {},
     "output_type": "display_data"
    },
    {
     "data": {
      "text/markdown": [
       "- Row 3 → Row 3 - (-1) × Row 1"
      ],
      "text/plain": [
       "<IPython.core.display.Markdown object>"
      ]
     },
     "metadata": {},
     "output_type": "display_data"
    },
    {
     "data": {
      "text/latex": [
       "$$A^{(1)} = \\begin{bmatrix} 2 & 1 & 1 \\\\ 0 & -8 & -2 \\\\ 0 & 8 & 3 \\end{bmatrix}$$"
      ],
      "text/plain": [
       "<IPython.core.display.Latex object>"
      ]
     },
     "metadata": {},
     "output_type": "display_data"
    },
    {
     "data": {
      "text/markdown": [
       "<hr />"
      ],
      "text/plain": [
       "<IPython.core.display.Markdown object>"
      ]
     },
     "metadata": {},
     "output_type": "display_data"
    },
    {
     "data": {
      "text/markdown": [
       "### Step 2: Eliminate column 2"
      ],
      "text/plain": [
       "<IPython.core.display.Markdown object>"
      ]
     },
     "metadata": {},
     "output_type": "display_data"
    },
    {
     "data": {
      "text/markdown": [
       "**Multiplier:**"
      ],
      "text/plain": [
       "<IPython.core.display.Markdown object>"
      ]
     },
     "metadata": {},
     "output_type": "display_data"
    },
    {
     "data": {
      "text/latex": [
       "$$m_{32} = \\frac{8}{-8} = -1.0$$"
      ],
      "text/plain": [
       "<IPython.core.display.Latex object>"
      ]
     },
     "metadata": {},
     "output_type": "display_data"
    },
    {
     "data": {
      "text/markdown": [
       "**After eliminating column 2:**"
      ],
      "text/plain": [
       "<IPython.core.display.Markdown object>"
      ]
     },
     "metadata": {},
     "output_type": "display_data"
    },
    {
     "data": {
      "text/markdown": [
       "- Row 3 → Row 3 - (-1) × Row 2"
      ],
      "text/plain": [
       "<IPython.core.display.Markdown object>"
      ]
     },
     "metadata": {},
     "output_type": "display_data"
    },
    {
     "data": {
      "text/latex": [
       "$$U = \\begin{bmatrix} 2 & 1 & 1 \\\\ 0 & -8 & -2 \\\\ 0 & 0 & 1 \\end{bmatrix}$$"
      ],
      "text/plain": [
       "<IPython.core.display.Latex object>"
      ]
     },
     "metadata": {},
     "output_type": "display_data"
    },
    {
     "data": {
      "text/markdown": [
       "<hr />"
      ],
      "text/plain": [
       "<IPython.core.display.Markdown object>"
      ]
     },
     "metadata": {},
     "output_type": "display_data"
    },
    {
     "data": {
      "text/markdown": [
       "### Build L from multipliers"
      ],
      "text/plain": [
       "<IPython.core.display.Markdown object>"
      ]
     },
     "metadata": {},
     "output_type": "display_data"
    },
    {
     "data": {
      "text/markdown": [
       "The multipliers directly fill in $L$:"
      ],
      "text/plain": [
       "<IPython.core.display.Markdown object>"
      ]
     },
     "metadata": {},
     "output_type": "display_data"
    },
    {
     "data": {
      "text/latex": [
       "$$L = \\begin{bmatrix} 1 & 0 & 0 \\\\ m_{21} & 1 & 0 \\\\ m_{31} & m_{32} & 1 \\end{bmatrix} = \\begin{bmatrix} 1 & 0 & 0 \\\\ 2 & 1 & 0 \\\\ -1 & -1 & 1 \\end{bmatrix}$$"
      ],
      "text/plain": [
       "<IPython.core.display.Latex object>"
      ]
     },
     "metadata": {},
     "output_type": "display_data"
    },
    {
     "data": {
      "text/markdown": [
       "<hr />"
      ],
      "text/plain": [
       "<IPython.core.display.Markdown object>"
      ]
     },
     "metadata": {},
     "output_type": "display_data"
    },
    {
     "data": {
      "text/markdown": [
       "### Verification: $A = LU$"
      ],
      "text/plain": [
       "<IPython.core.display.Markdown object>"
      ]
     },
     "metadata": {},
     "output_type": "display_data"
    },
    {
     "data": {
      "text/latex": [
       "$$LU = \\begin{bmatrix} 1 & 0 & 0 \\\\ 2 & 1 & 0 \\\\ -1 & -1 & 1 \\end{bmatrix} \\begin{bmatrix} 2 & 1 & 1 \\\\ 0 & -8 & -2 \\\\ 0 & 0 & 1 \\end{bmatrix} = \\begin{bmatrix} 2 & 1 & 1 \\\\ 4 & -6 & 0 \\\\ -2 & 7 & 2 \\end{bmatrix} = A \\quad \\checkmark$$"
      ],
      "text/plain": [
       "<IPython.core.display.Latex object>"
      ]
     },
     "metadata": {},
     "output_type": "display_data"
    }
   ],
   "source": [
    "from IPython.display import display, Markdown, Latex\n",
    "\n",
    "A = np.array([[2, 1, 1],\n",
    "              [4, -6, 0],\n",
    "              [-2, 7, 2]])\n",
    "\n",
    "display(Markdown(\"**Original matrix A:**\"))\n",
    "display(Latex(r\"$$A = \\begin{bmatrix} 2 & 1 & 1 \\\\ 4 & -6 & 0 \\\\ -2 & 7 & 2 \\end{bmatrix}$$\"))\n",
    "\n",
    "display(Markdown(\"<hr />\"))\n",
    "display(Markdown(\"### Step 1: Eliminate column 1\"))\n",
    "\n",
    "# Calculate multipliers for column 1\n",
    "m21 = A[1, 0] / A[0, 0]  # 4/2 = 2\n",
    "m31 = A[2, 0] / A[0, 0]  # -2/2 = -1\n",
    "\n",
    "display(Markdown(\"**Multipliers:**\"))\n",
    "display(Latex(f\"$$m_{{21}} = \\\\frac{{4}}{{2}} = {m21}, \\\\quad m_{{31}} = \\\\frac{{-2}}{{2}} = {m31}$$\"))\n",
    "\n",
    "# Create A1 after first elimination\n",
    "A1 = A.copy().astype(float)\n",
    "A1[1] = A1[1] - m21 * A1[0]  # row2 - 2*row1\n",
    "A1[2] = A1[2] - m31 * A1[0]  # row3 - (-1)*row1\n",
    "\n",
    "display(Markdown(\"**After eliminating column 1:**\"))\n",
    "display(Markdown(\"- Row 2 → Row 2 - 2 × Row 1\"))\n",
    "display(Markdown(\"- Row 3 → Row 3 - (-1) × Row 1\"))\n",
    "display(Latex(r\"$$A^{(1)} = \\begin{bmatrix} 2 & 1 & 1 \\\\ 0 & -8 & -2 \\\\ 0 & 8 & 3 \\end{bmatrix}$$\"))\n",
    "\n",
    "display(Markdown(\"<hr />\"))\n",
    "display(Markdown(\"### Step 2: Eliminate column 2\"))\n",
    "\n",
    "# Calculate multiplier for column 2\n",
    "m32 = A1[2, 1] / A1[1, 1]  # 8/(-8) = -1\n",
    "\n",
    "display(Markdown(\"**Multiplier:**\"))\n",
    "display(Latex(f\"$$m_{{32}} = \\\\frac{{8}}{{-8}} = {m32}$$\"))\n",
    "\n",
    "# Create U (final upper triangular)\n",
    "U = A1.copy()\n",
    "U[2] = U[2] - m32 * U[1]  # row3 - (-1)*row2\n",
    "\n",
    "display(Markdown(\"**After eliminating column 2:**\"))\n",
    "display(Markdown(\"- Row 3 → Row 3 - (-1) × Row 2\"))\n",
    "display(Latex(r\"$$U = \\begin{bmatrix} 2 & 1 & 1 \\\\ 0 & -8 & -2 \\\\ 0 & 0 & 1 \\end{bmatrix}$$\"))\n",
    "\n",
    "display(Markdown(\"<hr />\"))\n",
    "display(Markdown(\"### Build L from multipliers\"))\n",
    "\n",
    "# Build L from multipliers\n",
    "L = np.array([[1, 0, 0],\n",
    "              [m21, 1, 0],\n",
    "              [m31, m32, 1]])\n",
    "\n",
    "display(Markdown(\"The multipliers directly fill in $L$:\"))\n",
    "display(Latex(r\"$$L = \\begin{bmatrix} 1 & 0 & 0 \\\\ m_{21} & 1 & 0 \\\\ m_{31} & m_{32} & 1 \\end{bmatrix} = \\begin{bmatrix} 1 & 0 & 0 \\\\ 2 & 1 & 0 \\\\ -1 & -1 & 1 \\end{bmatrix}$$\"))\n",
    "\n",
    "display(Markdown(\"<hr />\"))\n",
    "display(Markdown(\"### Verification: $A = LU$\"))\n",
    "\n",
    "display(Latex(r\"$$LU = \\begin{bmatrix} 1 & 0 & 0 \\\\ 2 & 1 & 0 \\\\ -1 & -1 & 1 \\end{bmatrix} \\begin{bmatrix} 2 & 1 & 1 \\\\ 0 & -8 & -2 \\\\ 0 & 0 & 1 \\end{bmatrix} = \\begin{bmatrix} 2 & 1 & 1 \\\\ 4 & -6 & 0 \\\\ -2 & 7 & 2 \\end{bmatrix} = A \\quad \\checkmark$$\"))"
   ]
  },
  {
   "cell_type": "markdown",
   "metadata": {},
   "source": [
    "**Key observation:** All three multipliers $(m_{21}, m_{31}, m_{32})$ go directly into their corresponding positions in $L$:\n",
    "\n",
    "$$\n",
    "L = \\begin{bmatrix}\n",
    "1 & 0 & 0 \\\\\n",
    "m_{21} & 1 & 0 \\\\\n",
    "m_{31} & m_{32} & 1\n",
    "\\end{bmatrix}\n",
    "= \\begin{bmatrix}\n",
    "1 & 0 & 0 \\\\\n",
    "2 & 1 & 0 \\\\\n",
    "-1 & -1 & 1\n",
    "\\end{bmatrix}\n",
    "$$\n",
    "\n",
    "---\n",
    "\n",
    "**Note:** In practice, numerical libraries like SciPy provide `scipy.linalg.lu()` which computes LU decomposition efficiently and includes automatic row permutation (pivoting) for numerical stability."
   ]
  },
  {
   "cell_type": "code",
   "execution_count": 4,
   "metadata": {
    "execution": {
     "iopub.execute_input": "2025-10-08T02:02:53.897430Z",
     "iopub.status.busy": "2025-10-08T02:02:53.897367Z",
     "iopub.status.idle": "2025-10-08T02:02:53.974169Z",
     "shell.execute_reply": "2025-10-08T02:02:53.973983Z"
    }
   },
   "outputs": [
    {
     "data": {
      "text/markdown": [
       "**SciPy's LU decomposition:**"
      ],
      "text/plain": [
       "<IPython.core.display.Markdown object>"
      ]
     },
     "metadata": {},
     "output_type": "display_data"
    },
    {
     "data": {
      "text/markdown": [
       "SciPy returns $P$, $L$, $U$ where $PA = LU$ ($P$ is a permutation matrix)"
      ],
      "text/plain": [
       "<IPython.core.display.Markdown object>"
      ]
     },
     "metadata": {},
     "output_type": "display_data"
    },
    {
     "data": {
      "text/markdown": [
       "<hr />"
      ],
      "text/plain": [
       "<IPython.core.display.Markdown object>"
      ]
     },
     "metadata": {},
     "output_type": "display_data"
    },
    {
     "data": {
      "text/markdown": [
       "**Permutation matrix P:**"
      ],
      "text/plain": [
       "<IPython.core.display.Markdown object>"
      ]
     },
     "metadata": {},
     "output_type": "display_data"
    },
    {
     "data": {
      "text/latex": [
       "$$P = \\begin{bmatrix} 0 & 1 & 0 \\\\ 1 & 0 & 0 \\\\ 0 & 0 & 1 \\end{bmatrix}$$"
      ],
      "text/plain": [
       "<IPython.core.display.Latex object>"
      ]
     },
     "metadata": {},
     "output_type": "display_data"
    },
    {
     "data": {
      "text/markdown": [
       "(This swaps rows 1 and 2 for numerical stability)"
      ],
      "text/plain": [
       "<IPython.core.display.Markdown object>"
      ]
     },
     "metadata": {},
     "output_type": "display_data"
    },
    {
     "data": {
      "text/markdown": [
       "<hr />"
      ],
      "text/plain": [
       "<IPython.core.display.Markdown object>"
      ]
     },
     "metadata": {},
     "output_type": "display_data"
    },
    {
     "data": {
      "text/markdown": [
       "**Lower triangular L:**"
      ],
      "text/plain": [
       "<IPython.core.display.Markdown object>"
      ]
     },
     "metadata": {},
     "output_type": "display_data"
    },
    {
     "data": {
      "text/latex": [
       "$$L = \\begin{bmatrix} 1 & 0 & 0 \\\\ 0.5 & 1 & 0 \\\\ -0.5 & 1 & 1 \\end{bmatrix}$$"
      ],
      "text/plain": [
       "<IPython.core.display.Latex object>"
      ]
     },
     "metadata": {},
     "output_type": "display_data"
    },
    {
     "data": {
      "text/markdown": [
       "<hr />"
      ],
      "text/plain": [
       "<IPython.core.display.Markdown object>"
      ]
     },
     "metadata": {},
     "output_type": "display_data"
    },
    {
     "data": {
      "text/markdown": [
       "**Upper triangular U:**"
      ],
      "text/plain": [
       "<IPython.core.display.Markdown object>"
      ]
     },
     "metadata": {},
     "output_type": "display_data"
    },
    {
     "data": {
      "text/latex": [
       "$$U = \\begin{bmatrix} 4 & -6 & 0 \\\\ 0 & 4 & 1 \\\\ 0 & 0 & 1 \\end{bmatrix}$$"
      ],
      "text/plain": [
       "<IPython.core.display.Latex object>"
      ]
     },
     "metadata": {},
     "output_type": "display_data"
    },
    {
     "data": {
      "text/markdown": [
       "<hr />"
      ],
      "text/plain": [
       "<IPython.core.display.Markdown object>"
      ]
     },
     "metadata": {},
     "output_type": "display_data"
    },
    {
     "data": {
      "text/markdown": [
       "**Verification: $PA = LU$**"
      ],
      "text/plain": [
       "<IPython.core.display.Markdown object>"
      ]
     },
     "metadata": {},
     "output_type": "display_data"
    },
    {
     "data": {
      "text/markdown": [
       "⚠ **Row swaps were performed** (pivot strategy for numerical stability)."
      ],
      "text/plain": [
       "<IPython.core.display.Markdown object>"
      ]
     },
     "metadata": {},
     "output_type": "display_data"
    },
    {
     "data": {
      "text/markdown": [
       "SciPy chose the largest pivot to minimize rounding errors."
      ],
      "text/plain": [
       "<IPython.core.display.Markdown object>"
      ]
     },
     "metadata": {},
     "output_type": "display_data"
    },
    {
     "data": {
      "text/markdown": [
       "Our manual decomposition is valid but uses a different pivot order."
      ],
      "text/plain": [
       "<IPython.core.display.Markdown object>"
      ]
     },
     "metadata": {},
     "output_type": "display_data"
    }
   ],
   "source": [
    "from scipy.linalg import lu\n",
    "from IPython.display import display, Markdown, Latex\n",
    "\n",
    "A = np.array([[2, 1, 1],\n",
    "              [4, -6, 0],\n",
    "              [-2, 7, 2]], dtype=float)\n",
    "\n",
    "# SciPy returns P, L, U where PA = LU (P is permutation matrix)\n",
    "P, L_scipy, U_scipy = lu(A)\n",
    "\n",
    "display(Markdown(\"**SciPy's LU decomposition:**\"))\n",
    "display(Markdown(\"SciPy returns $P$, $L$, $U$ where $PA = LU$ ($P$ is a permutation matrix)\"))\n",
    "\n",
    "display(Markdown(\"<hr />\"))\n",
    "display(Markdown(\"**Permutation matrix P:**\"))\n",
    "display(Latex(r\"$$P = \\begin{bmatrix} 0 & 1 & 0 \\\\ 1 & 0 & 0 \\\\ 0 & 0 & 1 \\end{bmatrix}$$\"))\n",
    "display(Markdown(\"(This swaps rows 1 and 2 for numerical stability)\"))\n",
    "\n",
    "display(Markdown(\"<hr />\"))\n",
    "display(Markdown(\"**Lower triangular L:**\"))\n",
    "display(Latex(r\"$$L = \\begin{bmatrix} 1 & 0 & 0 \\\\ 0.5 & 1 & 0 \\\\ -0.5 & 1 & 1 \\end{bmatrix}$$\"))\n",
    "\n",
    "display(Markdown(\"<hr />\"))\n",
    "display(Markdown(\"**Upper triangular U:**\"))\n",
    "display(Latex(r\"$$U = \\begin{bmatrix} 4 & -6 & 0 \\\\ 0 & 4 & 1 \\\\ 0 & 0 & 1 \\end{bmatrix}$$\"))\n",
    "\n",
    "display(Markdown(\"<hr />\"))\n",
    "display(Markdown(\"**Verification: $PA = LU$**\"))\n",
    "\n",
    "# Note: If P = I (identity), then our manual L and U should match\n",
    "if np.allclose(P, np.eye(3)):\n",
    "    display(Markdown(\"✓ No row swaps needed! Our manual $L$ and $U$ match SciPy.\"))\n",
    "else:\n",
    "    display(Markdown(\"⚠ **Row swaps were performed** (pivot strategy for numerical stability).\"))\n",
    "    display(Markdown(\"SciPy chose the largest pivot to minimize rounding errors.\"))\n",
    "    display(Markdown(\"Our manual decomposition is valid but uses a different pivot order.\"))"
   ]
  }
 ],
 "metadata": {
  "kernelspec": {
   "display_name": "Python 3",
   "language": "python",
   "name": "python3"
  },
  "language_info": {
   "codemirror_mode": {
    "name": "ipython",
    "version": 3
   },
   "file_extension": ".py",
   "mimetype": "text/x-python",
   "name": "python",
   "nbconvert_exporter": "python",
   "pygments_lexer": "ipython3",
   "version": "3.13.5"
  }
 },
 "nbformat": 4,
 "nbformat_minor": 4
}
